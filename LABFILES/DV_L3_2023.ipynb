{
 "cells": [
  {
   "source": [
    "## Продолжим?"
   ],
   "cell_type": "markdown",
   "metadata": {}
  },
  {
   "cell_type": "code",
   "execution_count": null,
   "metadata": {
    "name": "import"
   },
   "outputs": [],
   "source": [
    "from plotnine import *\n",
    "from plotnine.data import *\n",
    "\n",
    "import numpy as np\n",
    "import pandas as pd"
   ]
  },
  {
   "cell_type": "code",
   "execution_count": null,
   "metadata": {
    "name": "settings",
    "tags": [
     "remove_input"
    ]
   },
   "outputs": [],
   "source": [
    "import warnings\n",
    "pd.set_option(\"display.max_rows\", 10)\n",
    "\n",
    "from matplotlib import rcParams\n",
    "rcParams.update({\"figure.max_open_warning\": 0,\n",
    "                 \"savefig.bbox\": \"tight\"})\n",
    "\n",
    "theme_set(theme_gray(base_size=12))"
   ]
  },
  {
   "cell_type": "code",
   "execution_count": null,
   "metadata": {},
   "outputs": [],
   "source": [
    "mpg"
   ]
  },
  {
   "source": [
    "## Начнём с простого, со всевозможных подписей: к графикам, к осям, к значениям. Подписи добавляются с использованием функции labs(). Вот, например, заголовок графика:"
   ],
   "cell_type": "markdown",
   "metadata": {}
  },
  {
   "cell_type": "code",
   "execution_count": null,
   "metadata": {
    "message": false
   },
   "outputs": [],
   "source": [
    "ggplot(mpg, aes(\"displ\", \"hwy\")) +\\\n",
    "geom_point(aes(color=\"class\")) +\\\n",
    "geom_smooth(se=False) +\\\n",
    "labs(title=\"Расход топлива растёт с увеличением объёма двигателя\")"
   ]
  },
  {
   "cell_type": "markdown",
   "metadata": {},
   "source": [
    "## Основной целью заголовка является обобщение основного результата наблюдения. Избегайте заголовков, которые просто описывают графики, например,  \"Диаграмма зависимости расхода топлива от объёма двигателя\"."
   ]
  },
  {
   "source": [
    "## Также вы можете использовать labs() для задания названий осей и легенд. Как правило, хорошей идеей будет заменить формальные обозначения категорий на более развёрнутое их описание с указанием размерности (при необходимости)."
   ],
   "cell_type": "markdown",
   "metadata": {}
  },
  {
   "cell_type": "code",
   "execution_count": null,
   "metadata": {
    "message": false
   },
   "outputs": [],
   "source": [
    "ggplot(mpg, aes(\"displ\", \"hwy\")) +\\\n",
    "geom_point(aes(colour=\"class\")) +\\\n",
    "geom_smooth(se=False) +\\\n",
    "labs(x=\"Рабочий объём двигателя (в литрах)\",\n",
    "     y=\"Расход топлива (в милях на галлон)\",\n",
    "     colour=\"Тип автомобиля\")"
   ]
  },
  {
   "cell_type": "markdown",
   "metadata": {},
   "source": [
    "## Можно даже добавить математическое выражение вместо текстовых строк с помощью LaTeX:"
   ]
  },
  {
   "cell_type": "code",
   "execution_count": null,
   "metadata": {},
   "outputs": [],
   "source": [
    "from matplotlib import rc\n",
    "rc('text', usetex=True)\n",
    "\n",
    "df = pd.DataFrame({\"x\": np.random.uniform(size=10),\n",
    "                   \"y\": np.random.uniform(size=10)})\n",
    "\n",
    "ggplot(df, aes(\"x\", \"y\")) +\\\n",
    "geom_point() +\\\n",
    "labs(x=\"$\\\\sum_{i = 1}^n{x_i^2}$\",\n",
    "     y=\"$\\\\alpha + \\\\beta + \\\\frac{\\\\delta}{\\\\theta}$\")"
   ]
  },
  {
   "source": [
    "## Не забудьте потом отключить эту опцию."
   ],
   "cell_type": "markdown",
   "metadata": {}
  },
  {
   "cell_type": "code",
   "execution_count": null,
   "metadata": {
    "tags": [
     "remove_input"
    ]
   },
   "outputs": [],
   "source": [
    "rc('text', usetex=False)"
   ]
  },
  {
   "source": [
    "### Создайте график на основе датафрейма mpg с заданными вручную заголовком, и осями x и y."
   ],
   "cell_type": "markdown",
   "metadata": {}
  },
  {
   "cell_type": "code",
   "execution_count": null,
   "metadata": {},
   "outputs": [],
   "source": [
    "# Type your code here..."
   ]
  },
  {
   "source": [
    "### Для одного из графиков, сформированных в прошлой лабораторной по собственным данным, придумайте название и подписи к осям."
   ],
   "cell_type": "markdown",
   "metadata": {}
  },
  {
   "cell_type": "code",
   "execution_count": null,
   "metadata": {},
   "outputs": [],
   "source": [
    "# Type your code here..."
   ]
  },
  {
   "cell_type": "markdown",
   "metadata": {},
   "source": [
    "## Кроме основных элементов графика, можно подписывать и отдельные наблюдения. Сначала попробуем использовать geom_text(). У него все те же свойства, что у geom_point(), но добавляется свойство label.\n",
    "## В качестве источника данных создадим датафрейм, в который поместим самую эффективную по расходу топлива марку автомобиля для каждого класса."
   ]
  },
  {
   "cell_type": "code",
   "execution_count": null,
   "metadata": {},
   "outputs": [],
   "source": [
    "best_in_class = mpg\\\n",
    ".sort_values(by=\"hwy\", ascending=False)\\\n",
    ".groupby(\"class\")\\\n",
    ".first()\n",
    "\n",
    "ggplot(mpg, aes(\"displ\", \"hwy\")) +\\\n",
    "geom_point(aes(colour=\"class\")) +\\\n",
    "geom_text(aes(label=\"model\"), data=best_in_class)"
   ]
  },
  {
   "cell_type": "markdown",
   "metadata": {},
   "source": [
    "## Выглядит не очень. Текст перекрывает как сам себя, так и точки. Немного улучшить ситуацию можно заменив geom_text() на geom_label(), заодно добавив прозрачности и небольшой сдвиг по y."
   ]
  },
  {
   "cell_type": "code",
   "execution_count": null,
   "metadata": {},
   "outputs": [],
   "source": [
    "ggplot(mpg, aes(\"displ\", \"hwy\")) +\\\n",
    "geom_point(aes(colour=\"class\")) +\\\n",
    "geom_label(aes(label=\"model\"), data=best_in_class, nudge_y=2, alpha=0.5)"
   ]
  },
  {
   "cell_type": "markdown",
   "metadata": {},
   "source": [
    "## Стало лучше, но в верхнем левом углу надписи всё ещё перекрывают друг друга. Устранить это перекрытие, используя одинаковое смещение для всех текстовых блоков, не получится. К счастью, есть переменная adjust_text."
   ]
  },
  {
   "cell_type": "code",
   "execution_count": null,
   "metadata": {},
   "outputs": [],
   "source": [
    "ggplot(mpg, aes(\"displ\", \"hwy\")) +\\\n",
    "geom_point(aes(colour=\"class\")) +\\\n",
    "geom_point(data=best_in_class, fill='none') +\\\n",
    "geom_label(aes(label=\"model\"), data=best_in_class, adjust_text={\n",
    "    'expand_points': (1.5, 1.5),\n",
    "    'arrowprops': {\n",
    "        'arrowstyle': '-'\n",
    "    }})"
   ]
  },
  {
   "source": [
    "## Обратите внимание, что мы нарисовали большие чёрные точки поверх выделенных."
   ],
   "cell_type": "markdown",
   "metadata": {}
  },
  {
   "cell_type": "markdown",
   "metadata": {},
   "source": [
    "## Вместо легенды иногда можно использовать тот же приём. Это не очень приятно выглядит на конкретном графике, но вообще может быть полезным."
   ]
  },
  {
   "cell_type": "code",
   "execution_count": null,
   "metadata": {},
   "outputs": [],
   "source": [
    "class_avg = mpg\\\n",
    ".groupby(\"class\")[\"displ\",\"hwy\"].median()\\\n",
    ".reset_index()\n",
    "\n",
    "ggplot(mpg, aes(\"displ\", \"hwy\", colour=\"class\")) +\\\n",
    "geom_point() +\\\n",
    "geom_label(aes(label=\"class\"), data=class_avg, size=16, label_size=0, adjust_text={'expand_points': (0, 0)}) +\\\n",
    "geom_point() +\\\n",
    "theme(legend_position=\"none\")"
   ]
  },
  {
   "cell_type": "markdown",
   "metadata": {},
   "source": [
    "## На график можно добавить и простой фрагмент текста. Но для этого всё равно нужен будет DataFrame. "
   ]
  },
  {
   "cell_type": "code",
   "execution_count": null,
   "metadata": {},
   "outputs": [],
   "source": [
    "label = pd.DataFrame({\"displ\": [mpg.displ.max()],\n",
    "                      \"hwy\": [mpg.hwy.max()],\n",
    "                      \"label\": \"Increasing engine size is \\nrelated to decreasing fuel economy.\"})\n",
    "\n",
    "ggplot(mpg, aes(\"displ\", \"hwy\")) +\\\n",
    "geom_point() +\\\n",
    "geom_text(aes(label=\"label\"), data=label, va=\"top\", ha=\"right\")"
   ]
  },
  {
   "cell_type": "markdown",
   "metadata": {},
   "source": [
    "## Чтобы поместить текст в самый край нужно будет использовтаь `+np.Inf` и `-np.Inf`:"
   ]
  },
  {
   "cell_type": "code",
   "execution_count": null,
   "metadata": {},
   "outputs": [],
   "source": [
    "label = pd.DataFrame({\"displ\": [np.Inf],\n",
    "                      \"hwy\": [np.Inf],\n",
    "                      \"label\": \"Increasing engine size is \\nrelated to decreasing fuel economy.\"})\n",
    "\n",
    "ggplot(mpg, aes(\"displ\", \"hwy\")) +\\\n",
    "geom_point() +\\\n",
    "geom_text(aes(label=\"label\"), data=label, va=\"top\", ha=\"right\")"
   ]
  },
  {
   "cell_type": "markdown",
   "metadata": {},
   "source": [
    "## Во всех этих примерах перенос слов между строками производился вручную с использованием `\"\\n\"`. Можно использовать функцию `fill` из модуля `textwrap`."
   ]
  },
  {
   "cell_type": "code",
   "execution_count": null,
   "metadata": {},
   "outputs": [],
   "source": [
    "from textwrap import fill\n",
    "\n",
    "print(fill(\"Increasing engine size is related to decreasing fuel economy.\", width=40))"
   ]
  },
  {
   "cell_type": "markdown",
   "metadata": {},
   "source": [
    "## Параметры `ha` и `va` определяют местоположение текста. Все девять вариантов – ниже."
   ]
  },
  {
   "cell_type": "code",
   "execution_count": null,
   "metadata": {
    "tags": [
     "remove_input"
    ]
   },
   "outputs": [],
   "source": [
    "from itertools import product\n",
    "\n",
    "has = [\"left\", \"center\", \"right\"]\n",
    "vas = [\"top\", \"center\", \"bottom\"]\n",
    "xs = [0, 0.5, 1]\n",
    "ys = [1, 0.5, 0]\n",
    "\n",
    "df = pd.DataFrame([{\"x\": xs[x],\n",
    "                    \"y\": ys[y],\n",
    "                    \"ha\": has[x],\n",
    "                    \"va\": vas[y],\n",
    "                    \"label\": f\"ha=\\\"{has[x]}\\\"\\nva=\\\"{vas[y]}\\\"\"}\n",
    "                   for x, y in product(range(3), repeat=2)])\n",
    "\n",
    "ggplot(df, aes(\"x\", \"y\")) +\\\n",
    "geom_point(colour=\"grey\", size=5) +\\\n",
    "geom_point(size=0.5, colour=\"red\") +\\\n",
    "geom_text(aes(label=\"label\", ha=\"ha\", va=\"va\")) +\\\n",
    "labs(x=None, y=None)"
   ]
  },
  {
   "source": [
    "### Используйте `geom_text()` с положением в бесконечности, чтобы поместить текст в каждый из четырёх углов графика"
   ],
   "cell_type": "markdown",
   "metadata": {}
  },
  {
   "cell_type": "code",
   "execution_count": null,
   "metadata": {},
   "outputs": [],
   "source": [
    "# Type your code here..."
   ]
  },
  {
   "source": [
    "### Поэкспериментируйте, как `geom_text()` работает с панелями. Сможете добавить подпись в одну выбранную панель?"
   ],
   "cell_type": "markdown",
   "metadata": {}
  },
  {
   "cell_type": "code",
   "execution_count": null,
   "metadata": {},
   "outputs": [],
   "source": [
    "# Type your code here..."
   ]
  },
  {
   "source": [
    "### Используйте `geom_hline()` или `geom_vline()` для обозначения пороговых значений."
   ],
   "cell_type": "markdown",
   "metadata": {}
  },
  {
   "cell_type": "code",
   "execution_count": null,
   "metadata": {},
   "outputs": [],
   "source": [
    "# Type your code here..."
   ]
  },
  {
   "source": [
    "### Используйте `geom_rect()`, чтобы нарисовать область интереса на графике."
   ],
   "cell_type": "markdown",
   "metadata": {}
  },
  {
   "cell_type": "code",
   "execution_count": null,
   "metadata": {},
   "outputs": [],
   "source": [
    "# Type your code here..."
   ]
  },
  {
   "source": [
    "### Используйте `geom_segment()`, чтобы нарисовать стрелку на графике."
   ],
   "cell_type": "markdown",
   "metadata": {}
  },
  {
   "cell_type": "code",
   "execution_count": null,
   "metadata": {},
   "outputs": [],
   "source": [
    "# Type your code here..."
   ]
  },
  {
   "cell_type": "markdown",
   "metadata": {},
   "source": [
    "## Ещё один способ улучшить понятность графиков – выбрать правильные масштабы осей.\n",
    "## Обратите внимание на разницу между `breaks` и `labels`. Первые – это засечки на осях, а вторые – подписи у этих засечек."
   ]
  },
  {
   "cell_type": "code",
   "execution_count": null,
   "metadata": {},
   "outputs": [],
   "source": [
    "ggplot(mpg, aes(\"displ\", \"hwy\")) +\\\n",
    "geom_point() +\\\n",
    "scale_y_continuous(breaks=range(15, 45, 5))"
   ]
  },
  {
   "cell_type": "markdown",
   "metadata": {},
   "source": [
    "## Можно, например, передать в качестве 'labels' список пустых строк нужного размера."
   ]
  },
  {
   "cell_type": "code",
   "execution_count": null,
   "metadata": {},
   "outputs": [],
   "source": [
    "def no_labels(values):\n",
    "    return [\"\"] * len(values)\n",
    "\n",
    "ggplot(mpg, aes(\"displ\", \"hwy\")) +\\\n",
    "geom_point() +\\\n",
    "scale_x_continuous(labels=no_labels) +\\\n",
    "scale_y_continuous(labels=no_labels)"
   ]
  },
  {
   "cell_type": "markdown",
   "metadata": {},
   "source": [
    "## Можно использовать `breaks` в случае, когда у вас мало конкретных значений, и вам хочется акцентировать внимание именно на них."
   ]
  },
  {
   "cell_type": "code",
   "execution_count": null,
   "metadata": {},
   "outputs": [],
   "source": [
    "presidential[\"id\"] = 34 + presidential.index\n",
    "\n",
    "ggplot(presidential, aes(\"start\", \"id\")) +\\\n",
    "geom_point() +\\\n",
    "geom_segment(aes(xend=\"end\", yend=\"id\")) +\\\n",
    "scale_x_date(name=\"\", breaks=presidential.start, date_labels=\"'%y\")"
   ]
  },
  {
   "cell_type": "markdown",
   "metadata": {},
   "source": [
    "## Местоположение легенды. В целом, всё тривиально."
   ]
  },
  {
   "cell_type": "code",
   "execution_count": null,
   "metadata": {},
   "outputs": [],
   "source": [
    "base = ggplot(mpg, aes(\"displ\", \"hwy\")) +\\\n",
    "geom_point(aes(colour=\"class\"))"
   ]
  },
  {
   "cell_type": "code",
   "execution_count": null,
   "metadata": {},
   "outputs": [],
   "source": [
    "base + theme(legend_position=\"right\")"
   ]
  },
  {
   "cell_type": "code",
   "execution_count": null,
   "metadata": {},
   "outputs": [],
   "source": [
    "base + theme(subplots_adjust={'left': 0.2}) + theme(legend_position=(0, 0.5))"
   ]
  },
  {
   "cell_type": "code",
   "execution_count": null,
   "metadata": {},
   "outputs": [],
   "source": [
    "base + theme(legend_position=\"top\")"
   ]
  },
  {
   "cell_type": "code",
   "execution_count": null,
   "metadata": {},
   "outputs": [],
   "source": [
    "base + theme(subplots_adjust={'bottom': 0.2}, legend_position=(.5, 0), legend_direction='horizontal')"
   ]
  },
  {
   "cell_type": "markdown",
   "metadata": {},
   "source": [
    "## Можно вообще убрать легенду с помощью `legend_position=\"none\"`."
   ]
  },
  {
   "source": [
    "### С использованием `guides` можно настроить вид легенды ещё более детально."
   ],
   "cell_type": "markdown",
   "metadata": {}
  },
  {
   "cell_type": "code",
   "execution_count": null,
   "metadata": {},
   "outputs": [],
   "source": [
    "ggplot(mpg, aes(\"displ\", \"hwy\")) +\\\n",
    "geom_point(aes(colour=\"class\")) +\\\n",
    "geom_smooth(se=False) +\\\n",
    "theme(legend_position=\"bottom\") +\\\n",
    "guides(colour=guide_legend(nrow=1, override_aes={\"size\": 4}))"
   ]
  },
  {
   "cell_type": "markdown",
   "metadata": {},
   "source": [
    "## Масштаб и шкала осей"
   ]
  },
  {
   "cell_type": "code",
   "execution_count": null,
   "metadata": {},
   "outputs": [],
   "source": [
    "ggplot(diamonds, aes(\"carat\", \"price\")) +\\\n",
    "geom_bin2d()"
   ]
  },
  {
   "cell_type": "code",
   "execution_count": null,
   "metadata": {},
   "outputs": [],
   "source": [
    "ggplot(diamonds, aes(\"np.log10(carat)\", \"np.log10(price)\")) +\\\n",
    "geom_bin2d()"
   ]
  },
  {
   "cell_type": "markdown",
   "metadata": {},
   "source": [
    "## Чтобы значения на осях остались исходными можно воспользоваться переопределением осей: `scale_x_log10()` и `scale_y_log10()`."
   ]
  },
  {
   "cell_type": "code",
   "execution_count": null,
   "metadata": {},
   "outputs": [],
   "source": [
    "ggplot(diamonds, aes(\"carat\", \"price\")) +\\\n",
    "geom_bin2d() +\\\n",
    "scale_x_log10() +\\\n",
    "scale_y_log10()"
   ]
  },
  {
   "cell_type": "markdown",
   "metadata": {},
   "source": [
    "## Также часто переопределяют значения цветов.\n",
    "## Вот так график выглядит по умолчанию"
   ]
  },
  {
   "cell_type": "code",
   "execution_count": null,
   "metadata": {},
   "outputs": [],
   "source": [
    "ggplot(mpg, aes(\"displ\", \"hwy\")) +\\\n",
    "geom_point(aes(color=\"drv\"))"
   ]
  },
  {
   "source": [
    "## А так для `palette=\"Set1\"`"
   ],
   "cell_type": "markdown",
   "metadata": {}
  },
  {
   "cell_type": "code",
   "execution_count": null,
   "metadata": {},
   "outputs": [],
   "source": [
    "ggplot(mpg, aes(\"displ\", \"hwy\")) +\\\n",
    "geom_point(aes(color=\"drv\")) +\\\n",
    "scale_colour_brewer(type=\"qual\", palette=\"Set1\")"
   ]
  },
  {
   "cell_type": "markdown",
   "metadata": {},
   "source": [
    "## А чтобы было ещё более заметно разницу, можно добавить другую форму."
   ]
  },
  {
   "cell_type": "code",
   "execution_count": null,
   "metadata": {},
   "outputs": [],
   "source": [
    "ggplot(mpg, aes(\"displ\", \"hwy\")) +\\\n",
    "geom_point(aes(color=\"drv\", shape=\"drv\")) +\\\n",
    "scale_colour_brewer(type=\"qual\", palette=\"Set1\")"
   ]
  },
  {
   "cell_type": "markdown",
   "metadata": {},
   "source": [
    "## Подробнее цветовые схемы описаны тут: <http://colorbrewer2.org/>."
   ]
  },
  {
   "source": [
    "## А ещё можно задать цвета вручную: `scale_colour_manual()`."
   ],
   "cell_type": "markdown",
   "metadata": {}
  },
  {
   "cell_type": "code",
   "execution_count": null,
   "metadata": {},
   "outputs": [],
   "source": [
    "presidential[\"id\"] = 34 + presidential.index\n",
    "\n",
    "ggplot(presidential, aes(\"start\", \"id\", colour=\"party\")) +\\\n",
    "geom_point() +\\\n",
    "geom_segment(aes(xend=\"end\", yend=\"id\")) +\\\n",
    "scale_colour_manual(values=[\"red\", \"blue\"], limits=[\"Republican\", \"Democratic\"])"
   ]
  },
  {
   "source": [
    "### \"Ну поиграйте с цветами, вы же дизайнер\""
   ],
   "cell_type": "markdown",
   "metadata": {}
  },
  {
   "cell_type": "code",
   "execution_count": null,
   "metadata": {},
   "outputs": [],
   "source": [
    "# Type your code here..."
   ]
  },
  {
   "cell_type": "markdown",
   "metadata": {},
   "source": [
    "## Иногда результат зависит от пределов значений на графике"
   ]
  },
  {
   "cell_type": "code",
   "execution_count": null,
   "metadata": {},
   "outputs": [],
   "source": [
    "ggplot(mpg, aes(\"displ\", \"hwy\")) +\\\n",
    "geom_point(aes(color=\"class\")) +\\\n",
    "geom_smooth() +\\\n",
    "coord_cartesian(xlim=(5, 7), ylim=(10, 30))"
   ]
  },
  {
   "cell_type": "code",
   "execution_count": null,
   "metadata": {},
   "outputs": [],
   "source": [
    "ggplot(mpg.query(\"5 <= displ <= 7 and 10 <= hwy <= 30\"), aes(\"displ\", \"hwy\")) +\\\n",
    "geom_point(aes(color=\"class\")) +\\\n",
    "geom_smooth()"
   ]
  },
  {
   "cell_type": "markdown",
   "metadata": {},
   "source": [
    "## Когда вы хотите сравнить значения двух графиков с совпадающими осями x и y, имеет смысл зафиксировать макмимальные и минимальные значения на этих осях."
   ]
  },
  {
   "cell_type": "code",
   "execution_count": null,
   "metadata": {},
   "outputs": [],
   "source": [
    "mpg[\"drv\"] = mpg[\"drv\"].astype(str)\n",
    "suv = mpg[mpg[\"class\"] == \"suv\"]\n",
    "compact = mpg[mpg[\"class\"] == \"compact\"]\n",
    "\n",
    "ggplot(suv, aes(\"displ\", \"hwy\", colour=\"drv\")) +\\\n",
    "geom_point()"
   ]
  },
  {
   "cell_type": "code",
   "execution_count": null,
   "metadata": {},
   "outputs": [],
   "source": [
    "ggplot(compact, aes(\"displ\", \"hwy\", colour=\"drv\")) +\\\n",
    "geom_point()"
   ]
  },
  {
   "cell_type": "markdown",
   "metadata": {},
   "source": [
    "## Например, сохранив эти значения в одельную переменную."
   ]
  },
  {
   "cell_type": "code",
   "execution_count": null,
   "metadata": {},
   "outputs": [],
   "source": [
    "x_scale = scale_x_continuous(limits=(mpg.displ.min(), mpg.displ.max()))\n",
    "y_scale = scale_y_continuous(limits=(mpg.hwy.min(), mpg.hwy.max()))\n",
    "col_scale = scale_colour_discrete(limits=mpg.drv.unique())\n",
    "\n",
    "ggplot(suv, aes(\"displ\", \"hwy\", colour=\"drv\")) +\\\n",
    "geom_point() +\\\n",
    "x_scale +\\\n",
    "y_scale +\\\n",
    "col_scale"
   ]
  },
  {
   "cell_type": "code",
   "execution_count": null,
   "metadata": {},
   "outputs": [],
   "source": [
    "ggplot(compact, aes(\"displ\", \"hwy\", colour=\"drv\")) +\\\n",
    "geom_point() +\\\n",
    "x_scale +\\\n",
    "y_scale +\\\n",
    "col_scale"
   ]
  },
  {
   "cell_type": "markdown",
   "metadata": {},
   "source": [
    "## Внешний вид можно менять настройкой тем"
   ]
  },
  {
   "cell_type": "code",
   "execution_count": null,
   "metadata": {},
   "outputs": [],
   "source": [
    "ggplot(mpg, aes(\"displ\", \"hwy\")) +\\\n",
    "geom_point(aes(color=\"class\")) +\\\n",
    "geom_smooth(se=False) +\\\n",
    "theme_xkcd()"
   ]
  },
  {
   "cell_type": "markdown",
   "metadata": {},
   "source": [
    "## "
   ]
  },
  {
   "source": [
    "## Сохранить последний нарисованный график можно с использованием:\n",
    "## `_.save(\"my-plot.pdf\")`\n",
    "## В качестве настроек используются: `width`, `height`, `units`, и `dpi`. "
   ],
   "cell_type": "markdown",
   "metadata": {}
  },
  {
   "source": [
    "## Если кто-то в предыдущей лабораторной не сделал творческое задание – самое время это сделать. Кто сделал – тот молодец!"
   ],
   "cell_type": "markdown",
   "metadata": {}
  }
 ],
 "metadata": {
  "jupytext": {
   "cell_metadata_filter": "name,eval,tags,message,-all"
  },
  "kernelspec": {
   "name": "Python 3.7.6 64-bit",
   "display_name": "Python 3.7.6 64-bit",
   "metadata": {
    "interpreter": {
     "hash": "0937d353238cba4c1315d71f91b95703dbfa93444cc6d04249f4b89b873ae6b3"
    }
   }
  },
  "language_info": {
   "codemirror_mode": {
    "name": "ipython",
    "version": 3
   },
   "file_extension": ".py",
   "mimetype": "text/x-python",
   "name": "python",
   "nbconvert_exporter": "python",
   "pygments_lexer": "ipython3",
   "version": "3.7.6-final"
  }
 },
 "nbformat": 4,
 "nbformat_minor": 2
}